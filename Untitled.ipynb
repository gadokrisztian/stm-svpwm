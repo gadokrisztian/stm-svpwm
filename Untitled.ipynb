{
 "cells": [
  {
   "cell_type": "code",
   "execution_count": 32,
   "metadata": {},
   "outputs": [
    {
     "data": {
      "text/plain": [
       "(2, 1)"
      ]
     },
     "execution_count": 32,
     "metadata": {},
     "output_type": "execute_result"
    }
   ],
   "source": [
    "timport sympy as sm\n",
    "\n",
    "\n",
    "V = sm.Matrix(sm.symbols(\"U_t, V_t, W_t\"))\n",
    "vdc = sm.Symbol(\"V_{dc}\")\n",
    "Ts = sm.Symbol(\"T_s\")\n",
    "\n",
    "Ml2n = vdc/3 * sm.Matrix([\n",
    "    [2, -1, -1],\n",
    "    [-1, 2, -1],\n",
    "    [-1, -1, 2]\n",
    "])\n",
    "MClark = sm.Rational(2, 3) * sm.Matrix([\n",
    "    [1, sm.Rational(-1, 2), sm.Rational(-1, 2)],\n",
    "    [0, sm.sqrt(3)/2, -sm.sqrt(3)/2]\n",
    "])\n",
    "\n",
    "Vref = sm.simplify(MClark * V)\n",
    "\n",
    "swl = sm.Matrix(sm.symbols(\"swl[0], swl[1], swl[2]\"))\n",
    "swr = sm.Matrix(sm.symbols(\"swr[0], swr[1], swr[2]\"))\n",
    "\n",
    "Vl = sm.simplify(MClark * Ml2n * swl)\n",
    "Vr = sm.simplify(MClark * Ml2n * swr)\n",
    "\n",
    "A = sm.Matrix([[Vl, Vr]])\n",
    "b = Ts*Vref\n",
    "\n",
    "detA = sm.simplify(A[0, 0] * A[1, 1] - A[0, 1] * A[1, 0])\n",
    "\n",
    "invA = sm.Matrix([\n",
    "    [A[1, 1], -A[0, 1]],\n",
    "    [-A[1, 0], A[0, 0]]\n",
    "])\n",
    "T = sm.simplify((1/detA * invA) * b)\n"
   ]
  }
 ],
 "metadata": {
  "kernelspec": {
   "display_name": "Python 3",
   "language": "python",
   "name": "python3"
  },
  "language_info": {
   "codemirror_mode": {
    "name": "ipython",
    "version": 3
   },
   "file_extension": ".py",
   "mimetype": "text/x-python",
   "name": "python",
   "nbconvert_exporter": "python",
   "pygments_lexer": "ipython3",
   "version": "3.7.9"
  }
 },
 "nbformat": 4,
 "nbformat_minor": 4
}
